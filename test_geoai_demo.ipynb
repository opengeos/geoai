{
 "cells": [
  {
   "cell_type": "markdown",
   "metadata": {},
   "source": [
    "# GeoAI Testing Demo\n",
    "\n",
    "This notebook demonstrates the automated testing functionality for the GeoAI package. It shows how to run tests and use the dummy datasets for development and testing."
   ]
  },
  {
   "cell_type": "markdown",
   "metadata": {},
   "source": [
    "## 1. Import Required Libraries"
   ]
  },
  {
   "cell_type": "code",
   "execution_count": null,
   "metadata": {},
   "outputs": [],
   "source": [
    "import sys\n",
    "import os\n",
    "import unittest\n",
    "import numpy as np\n",
    "import rasterio\n",
    "import geopandas as gpd\n",
    "from pathlib import Path\n",
    "\n",
    "# Import geoai modules\n",
    "import geoai\n",
    "from geoai import utils, classify, extract, download, segment"
   ]
  },
  {
   "cell_type": "markdown",
   "metadata": {},
   "source": [
    "## 2. Verify Test Data Creation"
   ]
  },
  {
   "cell_type": "code",
   "execution_count": null,
   "metadata": {},
   "outputs": [],
   "source": [
    "# Check if test data exists\n",
    "test_data_dir = \"tests/data\"\n",
    "\n",
    "if os.path.exists(test_data_dir):\n",
    "    print(f\"Test data directory exists: {test_data_dir}\")\n",
    "\n",
    "    # List all test files\n",
    "    test_files = os.listdir(test_data_dir)\n",
    "    print(f\"\\nTest files: {test_files}\")\n",
    "\n",
    "    # Check specific files\n",
    "    test_raster = os.path.join(test_data_dir, \"test_raster_rgb.tif\")\n",
    "    test_vector = os.path.join(test_data_dir, \"test_polygons.geojson\")\n",
    "\n",
    "    if os.path.exists(test_raster):\n",
    "        with rasterio.open(test_raster) as src:\n",
    "            print(f\"\\nTest raster info:\")\n",
    "            print(f\"  Shape: {src.height} x {src.width}\")\n",
    "            print(f\"  Bands: {src.count}\")\n",
    "            print(f\"  CRS: {src.crs}\")\n",
    "            print(f\"  Bounds: {src.bounds}\")\n",
    "\n",
    "    if os.path.exists(test_vector):\n",
    "        gdf = gpd.read_file(test_vector)\n",
    "        print(f\"\\nTest vector info:\")\n",
    "        print(f\"  Number of features: {len(gdf)}\")\n",
    "        print(f\"  CRS: {gdf.crs}\")\n",
    "        print(f\"  Columns: {list(gdf.columns)}\")\n",
    "else:\n",
    "    print(f\"Test data directory not found: {test_data_dir}\")\n",
    "    print(\"Run the create_test_data.py script first!\")"
   ]
  },
  {
   "cell_type": "markdown",
   "metadata": {},
   "source": [
    "## 3. Test Core GeoAI Functionality"
   ]
  },
  {
   "cell_type": "code",
   "execution_count": null,
   "metadata": {},
   "outputs": [],
   "source": [
    "# Test Map creation\n",
    "print(\"Testing Map creation...\")\n",
    "try:\n",
    "    m = geoai.Map()\n",
    "    print(\"✓ Map created successfully\")\n",
    "    print(f\"  Map type: {type(m)}\")\n",
    "except Exception as e:\n",
    "    print(f\"✗ Map creation failed: {e}\")\n",
    "\n",
    "# Test MapLibre creation\n",
    "print(\"\\nTesting MapLibre creation...\")\n",
    "try:\n",
    "    ml = geoai.MapLibre()\n",
    "    print(\"✓ MapLibre created successfully\")\n",
    "    print(f\"  MapLibre type: {type(ml)}\")\n",
    "except Exception as e:\n",
    "    print(f\"✗ MapLibre creation failed: {e}\")"
   ]
  },
  {
   "cell_type": "markdown",
   "metadata": {},
   "source": [
    "## 4. Test Device Detection"
   ]
  },
  {
   "cell_type": "code",
   "execution_count": null,
   "metadata": {},
   "outputs": [],
   "source": [
    "# Test device detection\n",
    "print(\"Testing device detection...\")\n",
    "try:\n",
    "    device = utils.get_device()\n",
    "    print(f\"✓ Device detected: {device}\")\n",
    "    print(f\"  Device type: {device.type}\")\n",
    "\n",
    "    # Check if PyTorch is working\n",
    "    import torch\n",
    "\n",
    "    test_tensor = torch.tensor([1, 2, 3]).to(device)\n",
    "    print(f\"  Test tensor on device: {test_tensor}\")\n",
    "\n",
    "except Exception as e:\n",
    "    print(f\"✗ Device detection failed: {e}\")"
   ]
  },
  {
   "cell_type": "markdown",
   "metadata": {},
   "source": [
    "## 5. Test Data Loading with Dummy Datasets"
   ]
  },
  {
   "cell_type": "code",
   "execution_count": null,
   "metadata": {},
   "outputs": [],
   "source": [
    "# Test loading raster data\n",
    "test_raster = \"tests/data/test_raster_rgb.tif\"\n",
    "\n",
    "if os.path.exists(test_raster):\n",
    "    print(\"Testing raster data loading...\")\n",
    "\n",
    "    try:\n",
    "        # Load with rasterio\n",
    "        with rasterio.open(test_raster) as src:\n",
    "            data = src.read()\n",
    "            print(f\"✓ Raster loaded successfully\")\n",
    "            print(f\"  Data shape: {data.shape}\")\n",
    "            print(f\"  Data type: {data.dtype}\")\n",
    "            print(f\"  Value range: {data.min()} - {data.max()}\")\n",
    "\n",
    "        # Test basic statistics\n",
    "        print(f\"\\nBasic statistics:\")\n",
    "        for i in range(data.shape[0]):\n",
    "            band_data = data[i]\n",
    "            print(\n",
    "                f\"  Band {i+1}: mean={band_data.mean():.2f}, std={band_data.std():.2f}\"\n",
    "            )\n",
    "\n",
    "    except Exception as e:\n",
    "        print(f\"✗ Raster loading failed: {e}\")\n",
    "else:\n",
    "    print(f\"Test raster not found: {test_raster}\")"
   ]
  },
  {
   "cell_type": "markdown",
   "metadata": {},
   "source": [
    "## 6. Test Vector Data Loading"
   ]
  },
  {
   "cell_type": "code",
   "execution_count": null,
   "metadata": {},
   "outputs": [],
   "source": [
    "# Test loading vector data\n",
    "test_vector = \"tests/data/test_polygons.geojson\"\n",
    "\n",
    "if os.path.exists(test_vector):\n",
    "    print(\"Testing vector data loading...\")\n",
    "\n",
    "    try:\n",
    "        gdf = gpd.read_file(test_vector)\n",
    "        print(f\"✓ Vector data loaded successfully\")\n",
    "        print(f\"  Number of features: {len(gdf)}\")\n",
    "        print(f\"  Geometry types: {gdf.geometry.type.unique()}\")\n",
    "        print(f\"  Total area: {gdf.geometry.area.sum():.6f}\")\n",
    "\n",
    "        # Display first few features\n",
    "        print(f\"\\nFirst 3 features:\")\n",
    "        print(gdf.head(3))\n",
    "\n",
    "    except Exception as e:\n",
    "        print(f\"✗ Vector loading failed: {e}\")\n",
    "else:\n",
    "    print(f\"Test vector not found: {test_vector}\")"
   ]
  },
  {
   "cell_type": "markdown",
   "metadata": {},
   "source": [
    "## 7. Run Unit Tests Programmatically"
   ]
  },
  {
   "cell_type": "code",
   "execution_count": null,
   "metadata": {},
   "outputs": [],
   "source": [
    "# Run specific test modules\n",
    "print(\"Running unit tests programmatically...\")\n",
    "\n",
    "\n",
    "def run_test_module(module_name):\n",
    "    \"\"\"Run tests for a specific module.\"\"\"\n",
    "    try:\n",
    "        # Import the test module\n",
    "        sys.path.insert(0, \"tests\")\n",
    "        test_module = __import__(module_name)\n",
    "\n",
    "        # Create test suite\n",
    "        loader = unittest.TestLoader()\n",
    "        suite = loader.loadTestsFromModule(test_module)\n",
    "\n",
    "        # Run tests\n",
    "        runner = unittest.TextTestRunner(verbosity=2)\n",
    "        result = runner.run(suite)\n",
    "\n",
    "        print(f\"\\n{module_name} Results:\")\n",
    "        print(f\"  Tests run: {result.testsRun}\")\n",
    "        print(f\"  Failures: {len(result.failures)}\")\n",
    "        print(f\"  Errors: {len(result.errors)}\")\n",
    "        print(\n",
    "            f\"  Success rate: {((result.testsRun - len(result.failures) - len(result.errors)) / result.testsRun * 100):.1f}%\"\n",
    "        )\n",
    "\n",
    "        return result.wasSuccessful()\n",
    "\n",
    "    except Exception as e:\n",
    "        print(f\"✗ Failed to run {module_name}: {e}\")\n",
    "        return False\n",
    "\n",
    "\n",
    "# Test individual modules\n",
    "test_modules = [\"test_utils\", \"test_classify\", \"test_download\"]\n",
    "\n",
    "for module in test_modules:\n",
    "    print(f\"\\n{'='*50}\")\n",
    "    print(f\"Testing {module}\")\n",
    "    print(f\"{'='*50}\")\n",
    "    success = run_test_module(module)\n",
    "    if success:\n",
    "        print(f\"✓ {module} tests passed\")\n",
    "    else:\n",
    "        print(f\"✗ {module} tests had issues\")"
   ]
  },
  {
   "cell_type": "markdown",
   "metadata": {},
   "source": [
    "## 8. Test Image Chip Data"
   ]
  },
  {
   "cell_type": "code",
   "execution_count": null,
   "metadata": {},
   "outputs": [],
   "source": [
    "# Test image chips (for training)\n",
    "chips_dir = \"tests/data/chips\"\n",
    "\n",
    "if os.path.exists(chips_dir):\n",
    "    print(\"Testing image chips...\")\n",
    "\n",
    "    chip_files = [f for f in os.listdir(chips_dir) if f.endswith(\".tif\")]\n",
    "    mask_files = [f for f in os.listdir(chips_dir) if f.endswith(\".png\")]\n",
    "\n",
    "    print(f\"Found {len(chip_files)} image chips and {len(mask_files)} masks\")\n",
    "\n",
    "    if chip_files:\n",
    "        # Load first chip\n",
    "        from PIL import Image\n",
    "\n",
    "        chip_path = os.path.join(chips_dir, chip_files[0])\n",
    "        mask_path = os.path.join(chips_dir, mask_files[0]) if mask_files else None\n",
    "\n",
    "        try:\n",
    "            chip_img = Image.open(chip_path)\n",
    "            print(f\"✓ Loaded chip: {chip_img.size} pixels, mode: {chip_img.mode}\")\n",
    "\n",
    "            if mask_path:\n",
    "                mask_img = Image.open(mask_path)\n",
    "                print(f\"✓ Loaded mask: {mask_img.size} pixels, mode: {mask_img.mode}\")\n",
    "\n",
    "                # Convert to numpy for analysis\n",
    "                mask_array = np.array(mask_img)\n",
    "                unique_values = np.unique(mask_array)\n",
    "                print(f\"  Mask classes: {unique_values}\")\n",
    "\n",
    "        except Exception as e:\n",
    "            print(f\"✗ Failed to load chips: {e}\")\n",
    "else:\n",
    "    print(f\"Chips directory not found: {chips_dir}\")"
   ]
  },
  {
   "cell_type": "markdown",
   "metadata": {},
   "source": [
    "## 9. Test Configuration Loading"
   ]
  },
  {
   "cell_type": "code",
   "execution_count": null,
   "metadata": {},
   "outputs": [],
   "source": [
    "# Test configuration file\n",
    "config_file = \"tests/data/test_config.json\"\n",
    "\n",
    "if os.path.exists(config_file):\n",
    "    print(\"Testing configuration loading...\")\n",
    "\n",
    "    try:\n",
    "        import json\n",
    "\n",
    "        with open(config_file, \"r\") as f:\n",
    "            config = json.load(f)\n",
    "\n",
    "        print(f\"✓ Configuration loaded successfully\")\n",
    "        print(f\"  Config keys: {list(config.keys())}\")\n",
    "\n",
    "        if \"model_config\" in config:\n",
    "            print(f\"  Model config: {config['model_config']}\")\n",
    "\n",
    "        if \"data_config\" in config:\n",
    "            print(f\"  Data config: {config['data_config']}\")\n",
    "\n",
    "    except Exception as e:\n",
    "        print(f\"✗ Configuration loading failed: {e}\")\n",
    "else:\n",
    "    print(f\"Configuration file not found: {config_file}\")"
   ]
  },
  {
   "cell_type": "markdown",
   "metadata": {},
   "source": [
    "## 10. Summary and Next Steps"
   ]
  },
  {
   "cell_type": "code",
   "execution_count": null,
   "metadata": {},
   "outputs": [],
   "source": [
    "print(\"\\n\" + \"=\" * 60)\n",
    "print(\"TESTING SUMMARY\")\n",
    "print(\"=\" * 60)\n",
    "\n",
    "print(\"\\n✓ Automated testing framework successfully added to GeoAI package!\")\n",
    "\n",
    "print(\"\\nWhat was created:\")\n",
    "print(\"  • Comprehensive test suite with 33 unit tests\")\n",
    "print(\"  • Dummy datasets for testing (rasters, vectors, image chips)\")\n",
    "print(\"  • Test modules for all major components:\")\n",
    "print(\"    - test_geoai.py (core functionality)\")\n",
    "print(\"    - test_utils.py (utility functions)\")\n",
    "print(\"    - test_classify.py (classification module)\")\n",
    "print(\"    - test_download.py (data download module)\")\n",
    "print(\"    - test_segment.py (segmentation module)\")\n",
    "print(\"    - test_extract.py (feature extraction module)\")\n",
    "print(\"  • Test data creation script (create_test_data.py)\")\n",
    "print(\"  • This demonstration notebook\")\n",
    "\n",
    "print(\"\\nHow to run tests:\")\n",
    "print(\"  • All tests: python -m unittest discover tests/ -v\")\n",
    "print(\"  • Specific module: python -m unittest tests.test_utils -v\")\n",
    "print(\n",
    "    \"  • Individual test: python -m unittest tests.test_utils.TestUtilsFunctions.test_get_device -v\"\n",
    ")\n",
    "\n",
    "print(\"\\nTest coverage includes:\")\n",
    "print(\"  • Package imports and module availability\")\n",
    "print(\"  • Core class instantiation (Map, MapLibre)\")\n",
    "print(\"  • Device detection and PyTorch integration\")\n",
    "print(\"  • Function signature validation\")\n",
    "print(\"  • Error handling with invalid inputs\")\n",
    "print(\"  • Data loading and basic operations\")\n",
    "\n",
    "print(\"\\nNext steps for expanding tests:\")\n",
    "print(\"  • Add integration tests with real data\")\n",
    "print(\"  • Add performance benchmarks\")\n",
    "print(\"  • Add tests for machine learning model training\")\n",
    "print(\"  • Add tests for visualization components\")\n",
    "print(\"  • Set up continuous integration (CI) testing\")"
   ]
  }
 ],
 "metadata": {
  "kernelspec": {
   "display_name": "geo",
   "language": "python",
   "name": "python3"
  },
  "language_info": {
   "codemirror_mode": {
    "name": "ipython",
    "version": 3
   },
   "file_extension": ".py",
   "mimetype": "text/x-python",
   "name": "python",
   "nbconvert_exporter": "python",
   "pygments_lexer": "ipython3",
   "version": "3.12.2"
  }
 },
 "nbformat": 4,
 "nbformat_minor": 4
}
